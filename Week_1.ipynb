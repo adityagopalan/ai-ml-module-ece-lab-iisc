{
 "cells": [
  {
   "cell_type": "markdown",
   "metadata": {},
   "source": [
    "# E2 285 - Mtech ECE lab (2024)\n",
    "\n",
    "Contributors: Aditya Gopalan, Abhigyan Dutta, Jaswanth Nischal Dokka, Vaishnav KV, Akkurthi Sree Harsha\n",
    "\n",
    "# Week 1: Python primer\n",
    "\n",
    "Hi there! This is a beginning notebook which will introduce you to scientific programming with the Python language, its typical data structures and program statements. \n",
    "\n",
    "Python code is akin to English and is easily readable. This should make your job easy!\n",
    "\n",
    "## How to use this notebook\n",
    "* Prerequisites: Python 3, Jupyter notebook, the NumPy and PyTorch packages\n",
    "* Think of each cell in this notebook as a \"file\" that holds code\n",
    "* To execute the code in each cell of this notebook, press Shift+Enter\n",
    "* Each cell, when executed, displays its intended output (or error messages) right below\n",
    "* Try changing the code in each cell and running it. Play around and learn!\n",
    "* Comments in Python begin with #\n",
    "* If you get errors in code that you write, Google is often your best friend to search for answers!\n",
    "* To look up help about a standard Python function, type ? followed immediately by the function name in a cell, e.g., ?print"
   ]
  },
  {
   "cell_type": "code",
   "execution_count": null,
   "metadata": {},
   "outputs": [],
   "source": [
    "# Hello world in Python\n",
    "\n",
    "print(\"Hello world!\") # print() is a built-in function in Python"
   ]
  },
  {
   "cell_type": "code",
   "execution_count": null,
   "metadata": {},
   "outputs": [],
   "source": [
    "# Hello world in Python, in some more detail\n",
    "my_string = \"Hello world, again!\"\n",
    "print(my_string)"
   ]
  },
  {
   "cell_type": "markdown",
   "metadata": {},
   "source": [
    "## Basic variables and data types"
   ]
  },
  {
   "cell_type": "code",
   "execution_count": null,
   "metadata": {},
   "outputs": [],
   "source": [
    "# basic variables and data types in Python\n",
    "\n",
    "n = 10 # integer \n",
    "x = 10.0 # floating point value\n",
    "s = '10' # string\n",
    "\n",
    "# note: you can use both single and double quotes equivalently for strings in Python"
   ]
  },
  {
   "cell_type": "code",
   "execution_count": null,
   "metadata": {},
   "outputs": [],
   "source": [
    "# check the types of the variables defined above\n",
    "# type is a built-in function in Python\n",
    "\n",
    "print(type(n))\n",
    "print(type(x))\n",
    "print(type(s))"
   ]
  },
  {
   "cell_type": "markdown",
   "metadata": {},
   "source": [
    "## Basic data types"
   ]
  },
  {
   "cell_type": "code",
   "execution_count": null,
   "metadata": {},
   "outputs": [],
   "source": [
    "my_list = [1, 2, 3.651, -1.3, 10, \"some string\"] # a list, defined using square braces; each element or 'value' can be arbitrary\n",
    "my_tuple = (1, 2, 3) # a tuple, defined using round braces; each element or 'value' can be arbitrary\n",
    "\n",
    "my_dict = {'first_elem': 1.09, 'second_elem':2.21, 'third_elem':3.64} # a dictionary, defined using curly braces\n",
    "\n",
    "# note: a dictionary allows for arbitrary indices or 'keys'\n",
    "my_dict_2 = {'cat': 1.41, 'dog':456, 'rabbit':'blue'}\n",
    "\n",
    "print(type(my_list))\n",
    "print(type(my_tuple))\n",
    "print(type(my_dict))\n",
    "print(type(my_dict_2))"
   ]
  },
  {
   "cell_type": "code",
   "execution_count": null,
   "metadata": {},
   "outputs": [],
   "source": [
    "# a list is \"mutable\" (changeable) whereas a tuple is \"immutable\" (cannot be changed, equivalent to a \"const\" in C)\n",
    "\n",
    "# so this would work ...\n",
    "my_list[0] = 1000000000\n",
    "print(my_list)"
   ]
  },
  {
   "cell_type": "code",
   "execution_count": null,
   "metadata": {},
   "outputs": [],
   "source": [
    "# ... but try running this and checking what happens \n",
    "\n",
    "my_tuple[0] = 1000000000"
   ]
  },
  {
   "cell_type": "code",
   "execution_count": null,
   "metadata": {},
   "outputs": [],
   "source": [
    "# accessing the contents of data structures\n",
    "\n",
    "print(my_list[0]) # Note: Python follows C-style indexing: the first element has index 0, the second has index 1 and so on\n",
    "print(my_list[2])\n",
    "print(my_list[0:5:2]) # \"slicing a list\": The notation [x:y:s] means \"extract elements with indices x, x+s, x+2s, x+3s, ... up to and NOT including y\""
   ]
  },
  {
   "cell_type": "code",
   "execution_count": null,
   "metadata": {},
   "outputs": [],
   "source": [
    "print(my_tuple[1])"
   ]
  },
  {
   "cell_type": "code",
   "execution_count": null,
   "metadata": {},
   "outputs": [],
   "source": [
    "print(my_dict['second_elem'])\n",
    "print(my_dict_2['rabbit'])"
   ]
  },
  {
   "cell_type": "code",
   "execution_count": null,
   "metadata": {},
   "outputs": [],
   "source": [
    "# Python list comprehension\n",
    "\n",
    "# Python lists allow for very easy 1-line \"English-style\" manipulation called \"list comprehension\"\n",
    "\n",
    "list1 = [3, 7, 5, -2, -6, 8]\n",
    "list2 = [x+1 for x in list1] # in English: \"the list of all x+1 where x is a member of list1\"\n",
    "print(list2)\n"
   ]
  },
  {
   "cell_type": "code",
   "execution_count": null,
   "metadata": {},
   "outputs": [],
   "source": [
    "# conditional list comprehension\n",
    "\n",
    "list3 = [x+1 for x in list1 if x > 0]\n",
    "print(list3)"
   ]
  },
  {
   "cell_type": "markdown",
   "metadata": {},
   "source": [
    "## Program flow in Python: Conditionals, Loops"
   ]
  },
  {
   "cell_type": "code",
   "execution_count": null,
   "metadata": {},
   "outputs": [],
   "source": [
    "# conditional statements\n",
    "\n",
    "a = 1.0\n",
    "if a > 0:\n",
    "    print('positive number')\n",
    "else:\n",
    "    print('non-positive number')\n",
    "    \n",
    "# Note: Proper and consistent indendation is important in Python! "
   ]
  },
  {
   "cell_type": "code",
   "execution_count": null,
   "metadata": {},
   "outputs": [],
   "source": [
    "# multiple conditions to check\n",
    "\n",
    "a = -5.0\n",
    "if a > 0:\n",
    "    print('positive number')\n",
    "elif a > -1:\n",
    "    print('negative number')\n",
    "else:\n",
    "    print('very negative number')\n"
   ]
  },
  {
   "cell_type": "code",
   "execution_count": null,
   "metadata": {},
   "outputs": [],
   "source": [
    "# loops in Python\n",
    "\n",
    "indices = [1, 2, 3, 4, 5, 6] # a list\n",
    "\n",
    "for i in indices:\n",
    "    print(i)\n"
   ]
  },
  {
   "cell_type": "code",
   "execution_count": null,
   "metadata": {},
   "outputs": [],
   "source": [
    "counter = 1\n",
    "\n",
    "while(counter <= 6):\n",
    "    print(counter)\n",
    "    counter = counter + 1"
   ]
  },
  {
   "cell_type": "code",
   "execution_count": null,
   "metadata": {},
   "outputs": [],
   "source": [
    "counter = 1\n",
    "\n",
    "# True and False are built-in Boolean constants defined in Python\n",
    "while(True):\n",
    "    if counter > 6:\n",
    "        break\n",
    "    print(counter)\n",
    "    counter = counter + 1"
   ]
  },
  {
   "cell_type": "markdown",
   "metadata": {},
   "source": [
    "## Functions"
   ]
  },
  {
   "cell_type": "code",
   "execution_count": null,
   "metadata": {},
   "outputs": [],
   "source": [
    "# definition of a function that squares its input\n",
    "\n",
    "def f(x):\n",
    "    return x*x"
   ]
  },
  {
   "cell_type": "code",
   "execution_count": null,
   "metadata": {},
   "outputs": [],
   "source": [
    "print(f(2.5))"
   ]
  },
  {
   "cell_type": "code",
   "execution_count": null,
   "metadata": {},
   "outputs": [],
   "source": [
    "# Will this work? \n",
    "\n",
    "print(f('2.5'))\n",
    "\n",
    "# Why?"
   ]
  },
  {
   "cell_type": "code",
   "execution_count": null,
   "metadata": {},
   "outputs": [],
   "source": [
    "# Will this work? \n",
    "\n",
    "print(f(float('2.5')))\n",
    "\n",
    "# Why?"
   ]
  },
  {
   "cell_type": "markdown",
   "metadata": {},
   "source": [
    "## Classes and object oriented programming\n",
    "\n",
    "Python allows for defining and using \"classes\" and \"objects\". Think of a class as defining a new \"data type\" structure but with an additional capability to compute. Instances of a class are called \"objects\".\n",
    "\n",
    "Classes can inherit attributes and methods from other classes, just like in C++ or Java."
   ]
  },
  {
   "cell_type": "code",
   "execution_count": null,
   "metadata": {},
   "outputs": [],
   "source": [
    "# example 1: definition of a class corresponding to a fruit\n",
    "\n",
    "class Fruit():\n",
    "    # class constructor function: defines what happens when you initialize the object\n",
    "    def __init__(self, fruit_type): # note: \"self\" refers to the created object itself, and is required \n",
    "                            # when defining functions within classes\n",
    "        self.name = fruit_type # each object in this Fruit class has an attribute called \"name\"\n",
    "    \n",
    "    def get_name(self): # A method that returns the name of the object. It is good practice to define  \n",
    "                        # get_variable() and set_variable() functions to manipulate class attributes\n",
    "                        # instead of directly manipulating them from outside\n",
    "        return self.name\n",
    "        "
   ]
  },
  {
   "cell_type": "markdown",
   "metadata": {},
   "source": [
    "Note that each class _must_ define a *constructor* function, which has the special name \\__init\\__, which specifies how an object (instance of the class) is set up when first invoked. "
   ]
  },
  {
   "cell_type": "code",
   "execution_count": null,
   "metadata": {},
   "outputs": [],
   "source": [
    "# a \"child class\" can be defined from a \"parent class\" -- this is called \"inheritance\"\n",
    "\n",
    "class Apple(Fruit):\n",
    "    def __init__(self, type_of_apple):\n",
    "        super().__init__(\"apple\") # call the parent class' constructor with fruit type \"apple\"\n",
    "        self.apple_type = type_of_apple\n",
    "    def get_apple_type(self):\n",
    "        return self.apple_type\n",
    "    \n",
    "class Banana(Fruit):\n",
    "    def __init__(self, rawness):\n",
    "        super().__init__(\"banana\") # call the parent class' constructor with fruit type \"apple\"\n",
    "        self.maturity = rawness\n",
    "        self.weight = 0.0\n",
    "    def get_maturity(self):\n",
    "        return self.maturity\n",
    "    def get_weight(self):\n",
    "        return self.weight\n",
    "    def set_weight(self, wt):\n",
    "        self.weight = wt"
   ]
  },
  {
   "cell_type": "code",
   "execution_count": null,
   "metadata": {},
   "outputs": [],
   "source": [
    "fruit1 = Fruit(\"mango\") # instance of Fruit\n",
    "print(fruit1.get_name())"
   ]
  },
  {
   "cell_type": "markdown",
   "metadata": {},
   "source": [
    "*Notes:* In the above code, Fruit(\"mango\") creates an object (instance) of the Fruit class, and then calls its constructor with the argument \"mango\". The constructor assigns the string \"mango\" to the object's internal variable \"name\". \n",
    "\n",
    "The special keyword \"self\", used within an object, refers to the object itself. "
   ]
  },
  {
   "cell_type": "code",
   "execution_count": null,
   "metadata": {},
   "outputs": [],
   "source": [
    "apple1 = Apple(\"red delicious\")\n",
    "print(apple1.get_name()) # the child class inherits the data and methods of the parent\n",
    "print(apple1.get_apple_type())"
   ]
  },
  {
   "cell_type": "code",
   "execution_count": null,
   "metadata": {},
   "outputs": [],
   "source": [
    "banana1 = Banana(\"ripe\")\n",
    "print(banana1.get_name())\n",
    "print(banana1.get_maturity())\n",
    "print(banana1.get_weight())\n",
    "\n",
    "banana1.set_weight(100)\n",
    "print(f\"after setting weight, banana1 has weight {banana1.get_weight()}\")"
   ]
  },
  {
   "cell_type": "code",
   "execution_count": null,
   "metadata": {},
   "outputs": [],
   "source": [
    "# example 2: A class that defines, say, a \"smart\" integer: an integer with the ability to square itself\n",
    "\n",
    "class SmartInt():\n",
    "    # class constructor function: defines what happens when you initialize the object\n",
    "    def __init__(self, x): # note: \"self\" refers to the created object itself, and is required when defining functions within classes\n",
    "        self.value = x\n",
    "        self.original_value = x\n",
    "    def get_value(self): # a class can contain functions defined like this; functions defined in a class are\n",
    "                            # also called \"methods\"\n",
    "        return self.value\n",
    "    def square(self):\n",
    "        self.value = self.value*self.value\n",
    "    def reset(self):\n",
    "        self.value = self.original_value\n",
    "        \n",
    "a = SmartInt(2)\n",
    "print(a.get_value())"
   ]
  },
  {
   "cell_type": "code",
   "execution_count": null,
   "metadata": {},
   "outputs": [],
   "source": [
    "a.square() # note: the \"self\" argument is never explicitly passed\n",
    "print(a.get_value())\n",
    "\n",
    "a.square() \n",
    "print(a.get_value())\n",
    "\n",
    "a.reset()\n",
    "print(a.get_value())"
   ]
  },
  {
   "cell_type": "code",
   "execution_count": null,
   "metadata": {},
   "outputs": [],
   "source": [
    "# many instances of the same class can be created\n",
    "b = SmartInt(3)\n",
    "b.square()\n",
    "\n",
    "print(b.get_value() + a.get_value())"
   ]
  },
  {
   "cell_type": "code",
   "execution_count": null,
   "metadata": {},
   "outputs": [],
   "source": [
    "# Lists are special classes built into Python. They have useful methods, e.g., sorting\n",
    "\n",
    "some_list = [5, 2, 4, 3]\n",
    "some_list.sort()\n",
    "print(some_list)"
   ]
  },
  {
   "cell_type": "markdown",
   "metadata": {},
   "source": [
    "## Scientific programming with Python: NumPy and PyTorch\n",
    "\n",
    "The core Python interpreter provides only basic mathematics facilities. NumPy and PyTorch are Python packages that permit greatly advanced mathematical operations such as linear algebra, randomness and sampling, tensors, neural networks and optimization. \n"
   ]
  },
  {
   "cell_type": "code",
   "execution_count": null,
   "metadata": {},
   "outputs": [],
   "source": [
    "# import the NumPy package/library in our Python session, and calling it \"np\" for convenience\n",
    "\n",
    "import numpy as np"
   ]
  },
  {
   "cell_type": "code",
   "execution_count": null,
   "metadata": {},
   "outputs": [],
   "source": [
    "# vectors and matrices in NumPy\n",
    "\n",
    "# NumPy defines a basic class called an \"ndarray\" (think of it as a matrix from linear algebra)\n",
    "# depending on a NumPy array's dimension, it becomes a vector (1D) or matrix (2D) or a general tensor (arbitrary dimensions)\n",
    "\n",
    "# defining a vector \n",
    "v = np.array([3.5, 2.3, -1.45]) # the function np.array() converts a list into a NumPy ndarray\n",
    "\n",
    "print(type(v))\n",
    "v.shape # note the output: it has only one relevant dimension, so this is a vector"
   ]
  },
  {
   "cell_type": "code",
   "execution_count": null,
   "metadata": {},
   "outputs": [],
   "source": [
    "# a NumPy ndarray has a data type attribute called \"dtype\"\n",
    "\n",
    "print(v.dtype)"
   ]
  },
  {
   "cell_type": "code",
   "execution_count": null,
   "metadata": {},
   "outputs": [],
   "source": [
    "# the data type gets set automatically when an ndarray is constructed, depending on its contents\n",
    "\n",
    "w = np.array([3, 2, -1])\n",
    "print(w.dtype)\n",
    "\n",
    "w1 = np.array([3.5, 2, -1])\n",
    "print(w1.dtype) # one floating point number in an ndarray makes its overall type a float"
   ]
  },
  {
   "cell_type": "code",
   "execution_count": null,
   "metadata": {},
   "outputs": [],
   "source": [
    "# useful methods of an ndarray object\n",
    "print(w.max()) # largest value\n",
    "print(w.min()) # smalles value\n",
    "print(w.argmax()) # index of largest value (smallest index if there are many)\n",
    "print(w.argmin()) # index of smallest value (smallest index if there are many)\n",
    "print(w.mean()) # average value\n",
    "\n",
    "# Note: the same results can be achieved by calling the functions np.max, np.min, np.argmax, np.argmin and np.mean\n",
    "# on the ndarray w; these are built-in functions that NumPy provides"
   ]
  },
  {
   "cell_type": "code",
   "execution_count": null,
   "metadata": {},
   "outputs": [],
   "source": [
    "# defining a matrix in NumPy\n",
    "M = np.array([[5, 3, 8.7], [-9.2, 3.7, 8.75], [3.45, 2.19, 7]]) # a 3x3 matrix; each row defined explicitly\n",
    "\n",
    "print(M.shape)"
   ]
  },
  {
   "cell_type": "code",
   "execution_count": null,
   "metadata": {},
   "outputs": [],
   "source": [
    "# defining a tensor (i.e., a \"higher order matrix\") \n",
    "\n",
    "T = np.array([[[2, 3], [4, 5], [6, 7]], [[8, 9], [10, 11], [12, 13]]]) # a 2x3x2 tensor, or two 3x3 matrices \n",
    "                                                                        # \"stacked\" together \n",
    "\n",
    "\n",
    "print(T.shape)"
   ]
  },
  {
   "cell_type": "code",
   "execution_count": null,
   "metadata": {},
   "outputs": [],
   "source": [
    "# basic linear algebra with NumPy\n",
    "\n",
    "# matrix vector product\n",
    "print(\"M*v = \")\n",
    "print(np.dot(M, v))\n",
    "\n",
    "# matrix transposition\n",
    "print(\"the transpose of M is\")\n",
    "print(M.T)\n",
    "\n",
    "# matrix inversion\n",
    "print(\"the inverse of M is \")\n",
    "print(np.linalg.inv(M)) # np.linalg provides many useful linear algebra functions"
   ]
  },
  {
   "cell_type": "markdown",
   "metadata": {},
   "source": [
    "### Random number generation in NumPy\n",
    "np.random has several functions to return random samples. For instance:"
   ]
  },
  {
   "cell_type": "code",
   "execution_count": null,
   "metadata": {},
   "outputs": [],
   "source": [
    "# a randomly sampled 4x4 matrix with iid standard normal entries\n",
    "# re-run this cell multiple times and observe the results\n",
    "\n",
    "rand_mat = np.random.normal(size=(4,4))\n",
    "print(rand_mat)"
   ]
  },
  {
   "cell_type": "code",
   "execution_count": null,
   "metadata": {},
   "outputs": [],
   "source": [
    "# a sample of a random variable uniformly distributed in the interval (0,1)\n",
    "# re-run to observe multiple independent samples\n",
    "\n",
    "sample = np.random.rand()\n",
    "print(sample)"
   ]
  },
  {
   "cell_type": "code",
   "execution_count": null,
   "metadata": {},
   "outputs": [],
   "source": [
    "# a bunch of 10 uniform random samples from within the interval (-4, 7)\n",
    "\n",
    "samples = np.random.uniform(low=-4, high=7, size=(10))\n",
    "print(samples)\n",
    "print(type(samples))"
   ]
  },
  {
   "cell_type": "code",
   "execution_count": null,
   "metadata": {},
   "outputs": [],
   "source": [
    "# import the PyTorch package for neural network and ML-specific primitives\n",
    "\n",
    "import torch"
   ]
  },
  {
   "cell_type": "code",
   "execution_count": null,
   "metadata": {},
   "outputs": [],
   "source": [
    "# PyTorch extends the ndarray data type of NumPy to a \"tensor\" class\n",
    "\n",
    "# a tensor is like an ndarray but with more \"information storage\" capabilities when it comes to\n",
    "# working with neural networks (more on this later)\n",
    "\n",
    "# creating a 2x3 tensor\n",
    "tr = torch.Tensor([[3, 5.24, 7], [9, 11, 13]])\n",
    "print(tr)"
   ]
  },
  {
   "cell_type": "code",
   "execution_count": null,
   "metadata": {},
   "outputs": [],
   "source": [
    "# PyTorch is highly NumPy-friendly\n",
    "# e.g., you can call any tensor's .numpy() method to get its primary data as an ndarray\n",
    "\n",
    "print(tr.numpy())"
   ]
  },
  {
   "cell_type": "markdown",
   "metadata": {},
   "source": [
    "## Exercises\n",
    "In the exercises, you should use the print() function to clearly demonstrate what is asked. You may also convey any additional thoughts by writing them as comments. "
   ]
  },
  {
   "cell_type": "markdown",
   "metadata": {},
   "source": [
    "1. Write code to output a _dictionary_ with the following contents: The keys (\"indices\") of the dictionary are the *strings* \"1\", \"2\", \"3\", ..., \"20\". The corresponding values are the *integers* $1, 2, 4, \\ldots, 400$ (squares of the integer representations). Note: Ensure that the types of the keys and values are as specified!"
   ]
  },
  {
   "cell_type": "code",
   "execution_count": null,
   "metadata": {},
   "outputs": [],
   "source": [
    "# you are free to choose your own variable names ..\n",
    "\n"
   ]
  },
  {
   "cell_type": "markdown",
   "metadata": {},
   "source": [
    "2. Write a function that, given a list as input, outputs a list that contains the elements of the input list _in reverse order_. Call this function with a list of your choice and demonstrate that it works as intended.\n"
   ]
  },
  {
   "cell_type": "code",
   "execution_count": null,
   "metadata": {},
   "outputs": [],
   "source": [
    "# you are free to choose your own variable or function names ..\n",
    "# please don't use the built-in function for list reversal\n",
    " \n"
   ]
  },
  {
   "cell_type": "markdown",
   "metadata": {},
   "source": [
    "3. Define a NumPy ndarray of shape (2, 3) and fill it up with your choice of numbers. Use the NumPy function flatten() to output a vector of length 6 that contains the same elements as this ndarray."
   ]
  },
  {
   "cell_type": "code",
   "execution_count": null,
   "metadata": {},
   "outputs": [],
   "source": [
    "# you are free to choose your own variable names ..\n"
   ]
  },
  {
   "cell_type": "markdown",
   "metadata": {},
   "source": [
    "4. Define 2 NumPy vectors of length 5, with your choice of numbers. Use the Numpy functions hstack() and vstack() to output matrices of shape (2, 5) and (5, 2) containing these vectors as rows and columns, respectively. (Google for these functions in NumPy to understand how to use them.)"
   ]
  },
  {
   "cell_type": "code",
   "execution_count": null,
   "metadata": {},
   "outputs": [],
   "source": [
    "# you are free to choose your own variable names ..\n"
   ]
  },
  {
   "cell_type": "markdown",
   "metadata": {},
   "source": [
    "5. *Law of large numbers*. Generate 10 i.i.d. unbiased random coin flips (i.e., samples from a probability distribution taking value 0 or 1 with equal probability). Print the sample mean of the 10 coin flips. Repeat the procedure for 100, 1000 and 10000 coin flips, respectively. What do you conclude? "
   ]
  },
  {
   "cell_type": "code",
   "execution_count": null,
   "metadata": {},
   "outputs": [],
   "source": [
    "# Write your code here :\n",
    "\n",
    "# you are free to define any functions if you want.\n",
    "\n",
    "\n",
    "\n",
    "# Conclusion :(Please add the conclusion as comments below)\n",
    "    "
   ]
  },
  {
   "cell_type": "markdown",
   "metadata": {},
   "source": [
    "6. *Classes*. Define a class called Polynomial whose constructor takes a list of numbers as input. These numbers represent the coefficients of a polynomial starting from the zeroth order coefficient. Define a method called \"eval\" within this class that returns the value of the polynomial evaluated at a given input. Instantiate and demonstrate the eval method suitably. "
   ]
  },
  {
   "cell_type": "code",
   "execution_count": null,
   "metadata": {},
   "outputs": [],
   "source": [
    "# Define your class here:\n",
    "\n",
    "\n",
    "\n",
    "\n",
    "\n",
    "# Create an object of the type polynomial (you have defined above).\n",
    "# You should demonstrate the \"eval\" function.\n",
    "\n"
   ]
  },
  {
   "cell_type": "markdown",
   "metadata": {},
   "source": [
    "7. Continuing on the same theme, write a function \"add\" that takes as input two Polynomial objects and returns a Polynomial object that represents the sum function of the two polynomial function. Show that it works as expected. "
   ]
  },
  {
   "cell_type": "code",
   "execution_count": null,
   "metadata": {},
   "outputs": [],
   "source": [
    "# write your function definition here:\n",
    "\n",
    "\n",
    "\n",
    "\n",
    "# Please demonstrate the working of the \"add\" function with an example.\n",
    "\n",
    "\n"
   ]
  },
  {
   "cell_type": "markdown",
   "metadata": {},
   "source": [
    "8. Continuing further, define a subclass of Polynomial (i.e., a class that inherits from Polynomial) which, given a positive integer input $n$ at instantiation time, constructs the polynomial function corresponding to $f(x) = x^n + 1$. "
   ]
  },
  {
   "cell_type": "code",
   "execution_count": null,
   "metadata": {},
   "outputs": [],
   "source": [
    "# you can give your own class name \n",
    "\n",
    "\n",
    "\n",
    "#  Create an object of the class (that you have defined above).\n",
    "#  Please demonstrate the working of the defined object.\n"
   ]
  }
 ],
 "metadata": {
  "kernelspec": {
   "display_name": "Python (mtechlab)",
   "language": "python",
   "name": "mtechlab"
  },
  "language_info": {
   "codemirror_mode": {
    "name": "ipython",
    "version": 3
   },
   "file_extension": ".py",
   "mimetype": "text/x-python",
   "name": "python",
   "nbconvert_exporter": "python",
   "pygments_lexer": "ipython3",
   "version": "3.7.15"
  },
  "vscode": {
   "interpreter": {
    "hash": "dfda238b1e9d80809aa91b1cd47b49346cfd96fcf237c5814cb796e1a5374c56"
   }
  }
 },
 "nbformat": 4,
 "nbformat_minor": 4
}
